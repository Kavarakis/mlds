{
 "cells": [
  {
   "cell_type": "code",
   "execution_count": 1,
   "metadata": {},
   "outputs": [],
   "source": [
    "import numpy as np\n",
    "import pandas as pd\n",
    "from scipy.optimize import minimize\n",
    "from sklearn.model_selection import KFold\n",
    "import matplotlib.pyplot as plt\n",
    "from joblib import Parallel, delayed"
   ]
  },
  {
   "cell_type": "markdown",
   "metadata": {},
   "source": []
  },
  {
   "cell_type": "markdown",
   "metadata": {},
   "source": []
  },
  {
   "cell_type": "markdown",
   "metadata": {},
   "source": [
    "## Ridge, Lasso\n",
    "\n",
    "Implement ridge and lasso regression. Both model should fit the intercept without penalization. Use a closed-form solution for ridge regression and any optimization method for lasso (for example, the Powell method from scipy).\n",
    "\n",
    "Implement models as classes (RidgeReg, LassoReg) which take a regularization weight as their constructor parameter and provide methods fit(X, y) and predict(X). Objects X and y are numpy arrays, fit fits the model and doesn't return anything, while predict returns predicted values. Add your own tests for testing the correctness and expected behavior of your solution.\n",
    "\n",
    "Application\n",
    "\n",
    "Apply your Ridge regression model to the provided superconductivity data set (superconductor.csv). It contains data about different superconducting materials with the goal of modeling their critical temperatures. The data set was somewhat adapted for the the purposes of this homework. Your goal is to minimize the model's root mean square error (RMSE). Use the first 200 examples as your training data for building the model and selecting an appropriate regularization weight. Note that you have relatively few data samples. Finally, estimate the model's RMSE on the other 100 examples.\n",
    "\n",
    "Submit two files: a short (max 2 pages) report (.pdf) and your code (a single Python 3.8-compatible file; your code should only run things under if __name__ == \"__main__\").\n"
   ]
  },
  {
   "cell_type": "code",
   "execution_count": 2,
   "metadata": {},
   "outputs": [],
   "source": [
    "def normalize(x):\n",
    "    def nf(f):\n",
    "        temp = np.max(f) - np.min(f)\n",
    "        nf = (f - np.min(f)) / (temp)\n",
    "        return nf\n",
    "\n",
    "    return np.apply_along_axis(func1d=nf, axis=0, arr=x)\n"
   ]
  },
  {
   "cell_type": "code",
   "execution_count": 3,
   "metadata": {},
   "outputs": [],
   "source": [
    "def rmse(yp, yt):\n",
    "    return np.sqrt(((yp - yt)**2).mean())"
   ]
  },
  {
   "cell_type": "code",
   "execution_count": 7,
   "metadata": {},
   "outputs": [],
   "source": [
    "class Regression:\n",
    "    def __init__(self, fit_intercept):\n",
    "        self.fit_intercept = fit_intercept\n",
    "\n",
    "    def predict(self, xp):\n",
    "        def fun(x):\n",
    "            res = 0\n",
    "            if (self.fit_intercept):\n",
    "                res = self.beta[0] + self.beta[1:].T.dot(x)\n",
    "            else:\n",
    "                res = self.beta.T.dot(x)\n",
    "            return res\n",
    "\n",
    "        return np.ravel(np.apply_along_axis(func1d=fun, axis=1, arr=xp))"
   ]
  },
  {
   "cell_type": "code",
   "execution_count": 8,
   "metadata": {},
   "outputs": [],
   "source": [
    "class LinReg(Regression):\n",
    "    def __init__(self, fit_intercept=True):\n",
    "        self.fit_intercept = fit_intercept\n",
    "\n",
    "    def cost_f(self, beta0):\n",
    "        self.beta = beta0\n",
    "        res = np.sum((self.predict(self.x) - self.y)**2) / (2 * len(self.y))\n",
    "        return res\n",
    "\n",
    "    def fit(self, X, y):\n",
    "        self.y = y\n",
    "        if (self.fit_intercept):\n",
    "            self.x = np.append(np.ones((X.shape[0], 1)), X, axis=1)\n",
    "            self.p = X.shape[1] + 1\n",
    "        else:\n",
    "            self.x = X\n",
    "            self.p = X.shape[1]\n",
    "        res = np.linalg.inv(self.x.T.dot(self.x))\n",
    "        self.beta_th = res.dot(self.x.T.dot(self.y))\n",
    "        self.x = X\n",
    "        # self.beta = self.beta_th\n",
    "        self.beta = np.zeros(self.p)\n",
    "        self.weights = minimize(self.cost_f, self.beta, method='Powell')\n",
    "        self.beta = self.weights['x']\n",
    "\n",
    "        return self"
   ]
  },
  {
   "cell_type": "code",
   "execution_count": 9,
   "metadata": {},
   "outputs": [],
   "source": [
    "class RidgeReg(Regression):\n",
    "    def __init__(self, lambda_, fit_intercept=True):\n",
    "        self.l = lambda_\n",
    "        self.fit_intercept = fit_intercept\n",
    "\n",
    "    def loss_f(self, beta0):\n",
    "        self.beta = beta0\n",
    "        pred = self.predict(self.x)\n",
    "        res = np.sum((pred - self.y)**2) / (2 * len(self.y)) + self.l * np.sum(\n",
    "            self.beta**2)\n",
    "        return res\n",
    "\n",
    "    def fit(self, X, y):\n",
    "        self.y = y\n",
    "\n",
    "        if (self.fit_intercept):\n",
    "            self.x = np.append(np.ones((X.shape[0], 1)), X, axis=1)\n",
    "            self.p = X.shape[1] + 1\n",
    "        else:\n",
    "            self.x = X\n",
    "            self.p = X.shape[1]\n",
    "\n",
    "        self.alpha = np.linalg.inv(\n",
    "            (self.x.T.dot(self.x) + self.l * np.eye(self.p)))\n",
    "        temp = self.alpha.dot(self.x.T)\n",
    "        self.beta_th = temp.dot(self.y)\n",
    "        self.beta_th = self.beta_th.reshape((len(self.beta_th), 1))\n",
    "        self.x = X\n",
    "        self.beta = np.zeros(self.p)\n",
    "        self.weights = minimize(self.loss_f, self.beta, method='Powell')\n",
    "        self.beta = self.weights['x']\n",
    "        self.beta = self.beta_th\n",
    "        return self"
   ]
  },
  {
   "cell_type": "code",
   "execution_count": 10,
   "metadata": {},
   "outputs": [],
   "source": [
    "class LassoReg(Regression):\n",
    "    def __init__(self, lambda_, fit_intercept=True):\n",
    "        self.fit_intercept = fit_intercept\n",
    "        self.l = lambda_\n",
    "\n",
    "    def loss_f(self, beta0):\n",
    "        self.beta = beta0\n",
    "        pred = self.predict(self.x)\n",
    "        res = np.sum((pred - self.y)**2) / (2 * len(self.y)) + self.l * np.sum(\n",
    "            np.abs(self.beta))\n",
    "        return res\n",
    "\n",
    "    def fit(self, X, y):\n",
    "        # scaler = StandardScaler().fit(X)\n",
    "        # X = scaler.transform(X)\n",
    "        self.y = y\n",
    "        if (self.fit_intercept):\n",
    "            self.x = np.append(np.ones((X.shape[0], 1)), X, axis=1)\n",
    "\n",
    "            self.p = X.shape[1] + 1\n",
    "        else:\n",
    "            self.x = X\n",
    "            self.p = X.shape[1]\n",
    "        res = np.linalg.inv(self.x.T.dot(self.x))\n",
    "        self.beta_th = res.dot(self.x.T.dot(self.y))\n",
    "        self.x = X\n",
    "        self.beta = np.zeros(self.p)\n",
    "        # self.beta = self.beta_th\n",
    "        self.weights = minimize(self.loss_f, self.beta, method='Powell')\n",
    "        self.beta = self.weights['x']\n",
    "        return self"
   ]
  },
  {
   "cell_type": "markdown",
   "metadata": {},
   "source": [
    "###  Data Import and preparation"
   ]
  },
  {
   "cell_type": "code",
   "execution_count": 11,
   "metadata": {},
   "outputs": [],
   "source": [
    "df = pd.read_csv('superconductor.csv')\n",
    "X = df.iloc[:, :-1].to_numpy()\n",
    "y = df.iloc[:, -1].to_numpy()\n",
    "X = normalize(X)\n",
    "X_train, X_test = X[:200, :], X[200:, :]\n",
    "y_train, y_test = y[:200], y[200:]"
   ]
  },
  {
   "cell_type": "markdown",
   "metadata": {},
   "source": [
    "### Testing model on introduced data:"
   ]
  },
  {
   "cell_type": "code",
   "execution_count": 12,
   "metadata": {},
   "outputs": [],
   "source": [
    "lin_reg_org = LinReg().fit(X_train, y_train)"
   ]
  },
  {
   "cell_type": "code",
   "execution_count": 13,
   "metadata": {},
   "outputs": [
    {
     "name": "stdout",
     "output_type": "stream",
     "text": [
      "RMSE (LINREG): 23.638960458936552\n"
     ]
    }
   ],
   "source": [
    "print('RMSE (LINREG):',rmse(lin_reg_org.predict(X_test),y_test))"
   ]
  },
  {
   "cell_type": "code",
   "execution_count": 14,
   "metadata": {},
   "outputs": [],
   "source": [
    "lasso_reg_org = LassoReg( lambda_ = 1).fit(X_train,y_train)"
   ]
  },
  {
   "cell_type": "code",
   "execution_count": 15,
   "metadata": {},
   "outputs": [
    {
     "name": "stdout",
     "output_type": "stream",
     "text": [
      "RMSE (LASSOREG): 18.257374603193878\n"
     ]
    }
   ],
   "source": [
    "print('RMSE (LASSOREG):',rmse(lasso_reg_org.predict(X_test),y_test))"
   ]
  },
  {
   "cell_type": "code",
   "execution_count": 16,
   "metadata": {},
   "outputs": [],
   "source": [
    "ridge_reg_org = RidgeReg( lambda_ = 1).fit(X_train,y_train)"
   ]
  },
  {
   "cell_type": "code",
   "execution_count": 17,
   "metadata": {},
   "outputs": [
    {
     "name": "stdout",
     "output_type": "stream",
     "text": [
      "RMSE (RIDGEREG): 13.588195643187555\n"
     ]
    }
   ],
   "source": [
    "print('RMSE (RIDGEREG):',rmse(ridge_reg_org.predict(X_test),y_test))"
   ]
  },
  {
   "cell_type": "code",
   "execution_count": 18,
   "metadata": {},
   "outputs": [],
   "source": [
    "def get_cv(train_i,test_i,model):\n",
    "    X_train, X_test = X[train_i], X[test_i]\n",
    "    y_train, y_test = y[train_i], y[test_i]\n",
    "    model = model.fit(X_train,y_train)\n",
    "    y_train_pred = model.predict(X_train)\n",
    "    y_test_pred = model.predict(X_test)\n",
    "    return dict(rmse_train = rmse(y_train_pred,y_train),rmse_test = rmse(y_test_pred,y_test))"
   ]
  },
  {
   "cell_type": "markdown",
   "metadata": {},
   "source": [
    "### Checking data for overfit:\n",
    "\n",
    "If we check the Linear reg. model for overfit via CV through train and test set, \n",
    "we can introduce Lasso Regression to check feature importance which will reduce model complexity and introduce positive bias for better model performance."
   ]
  },
  {
   "cell_type": "code",
   "execution_count": 19,
   "metadata": {},
   "outputs": [],
   "source": [
    "\n",
    "n_split = 10"
   ]
  },
  {
   "cell_type": "code",
   "execution_count": 20,
   "metadata": {},
   "outputs": [
    {
     "name": "stdout",
     "output_type": "stream",
     "text": [
      "[Parallel(n_jobs=-1)]: Using backend LokyBackend with 12 concurrent workers.\n",
      "[Parallel(n_jobs=-1)]: Done   1 tasks      | elapsed:   43.2s\n",
      "[Parallel(n_jobs=-1)]: Done   2 out of  10 | elapsed:   44.8s remaining:  3.0min\n",
      "[Parallel(n_jobs=-1)]: Done   3 out of  10 | elapsed:   54.9s remaining:  2.1min\n",
      "[Parallel(n_jobs=-1)]: Done   4 out of  10 | elapsed:   55.7s remaining:  1.4min\n",
      "[Parallel(n_jobs=-1)]: Done   5 out of  10 | elapsed:   58.5s remaining:   58.5s\n",
      "[Parallel(n_jobs=-1)]: Done   6 out of  10 | elapsed:   58.6s remaining:   39.1s\n",
      "[Parallel(n_jobs=-1)]: Done   7 out of  10 | elapsed:   59.7s remaining:   25.6s\n",
      "[Parallel(n_jobs=-1)]: Done   8 out of  10 | elapsed:  1.0min remaining:   15.3s\n",
      "[Parallel(n_jobs=-1)]: Done  10 out of  10 | elapsed:  1.1min remaining:    0.0s\n",
      "[Parallel(n_jobs=-1)]: Done  10 out of  10 | elapsed:  1.1min finished\n"
     ]
    }
   ],
   "source": [
    "\n",
    "kf = KFold(n_splits=n_split)\n",
    "out_lin = Parallel(n_jobs=-1, verbose=100, pre_dispatch='1.5*n_jobs')(delayed(get_cv)\n",
    "                                                                 (train_i, test_i, LinReg()) for train_i, test_i in kf.split(X))\n"
   ]
  },
  {
   "cell_type": "code",
   "execution_count": 21,
   "metadata": {},
   "outputs": [
    {
     "data": {
      "image/png": "[encoded data removed]",
      "text/plain": [
       "<Figure size 432x288 with 1 Axes>"
      ]
     },
     "metadata": {
      "needs_background": "light"
     },
     "output_type": "display_data"
    }
   ],
   "source": [
    "plt.plot(1 + np.arange(n_split),[x['rmse_train'] for x in out_lin],label= 'Train data')\n",
    "plt.plot(1 + np.arange(n_split),[x['rmse_test'] for x in out_lin],label = 'Test data')\n",
    "plt.legend()\n",
    "plt.title('Linear regression train and test CV')\n",
    "plt.grid()\n",
    "plt.tight_layout()\n",
    "plt.show()"
   ]
  },
  {
   "cell_type": "markdown",
   "metadata": {},
   "source": [
    "We can see that train performance baseline result is substantially less then test set."
   ]
  },
  {
   "cell_type": "code",
   "execution_count": 22,
   "metadata": {},
   "outputs": [
    {
     "name": "stdout",
     "output_type": "stream",
     "text": [
      "[Parallel(n_jobs=-1)]: Using backend LokyBackend with 12 concurrent workers.\n",
      "[Parallel(n_jobs=-1)]: Done   1 tasks      | elapsed:   56.0s\n",
      "[Parallel(n_jobs=-1)]: Done   2 out of  10 | elapsed:  1.1min remaining:  4.2min\n",
      "[Parallel(n_jobs=-1)]: Done   3 out of  10 | elapsed:  1.1min remaining:  2.6min\n",
      "[Parallel(n_jobs=-1)]: Done   4 out of  10 | elapsed:  1.2min remaining:  1.8min\n",
      "[Parallel(n_jobs=-1)]: Done   5 out of  10 | elapsed:  1.2min remaining:  1.2min\n",
      "[Parallel(n_jobs=-1)]: Done   6 out of  10 | elapsed:  1.3min remaining:   51.4s\n",
      "[Parallel(n_jobs=-1)]: Done   7 out of  10 | elapsed:  1.3min remaining:   33.2s\n",
      "[Parallel(n_jobs=-1)]: Done   8 out of  10 | elapsed:  1.3min remaining:   20.0s\n",
      "[Parallel(n_jobs=-1)]: Done  10 out of  10 | elapsed:  1.4min remaining:    0.0s\n",
      "[Parallel(n_jobs=-1)]: Done  10 out of  10 | elapsed:  1.4min finished\n"
     ]
    }
   ],
   "source": [
    "kf = KFold(n_splits=n_split)\n",
    "out_lasso = Parallel(n_jobs=-1, verbose=100, pre_dispatch='1.5*n_jobs')(delayed(get_cv)\n",
    "                                                                 (train_i, test_i, LassoReg(lambda_=1)) for train_i, test_i in kf.split(X))\n"
   ]
  },
  {
   "cell_type": "code",
   "execution_count": 23,
   "metadata": {},
   "outputs": [
    {
     "data": {
      "image/png": "[encoded data removed]",
      "text/plain": [
       "<Figure size 432x288 with 1 Axes>"
      ]
     },
     "metadata": {
      "needs_background": "light"
     },
     "output_type": "display_data"
    }
   ],
   "source": [
    "plt.plot(1 + np.arange(n_split),[x['rmse_train'] for x in out_lasso],label= 'Train data')\n",
    "plt.plot(1 + np.arange(n_split),[x['rmse_test'] for x in out_lasso],label = 'Test data')\n",
    "plt.legend()\n",
    "plt.title('Lasso regression train and test CV')\n",
    "plt.grid()\n",
    "plt.tight_layout()\n",
    "plt.show()"
   ]
  },
  {
   "cell_type": "markdown",
   "metadata": {},
   "source": [
    "Lasso regression reduced overfit via regularization, by reducing coefficient (leading them to 0), for features which are responsible for induced overfit."
   ]
  },
  {
   "cell_type": "code",
   "execution_count": 24,
   "metadata": {},
   "outputs": [
    {
     "name": "stdout",
     "output_type": "stream",
     "text": [
      "[Parallel(n_jobs=-1)]: Using backend LokyBackend with 12 concurrent workers.\n",
      "[Parallel(n_jobs=-1)]: Done   1 tasks      | elapsed:   15.6s\n",
      "[Parallel(n_jobs=-1)]: Done   2 out of  10 | elapsed:   15.7s remaining:  1.0min\n",
      "[Parallel(n_jobs=-1)]: Done   3 out of  10 | elapsed:   16.0s remaining:   37.4s\n",
      "[Parallel(n_jobs=-1)]: Done   4 out of  10 | elapsed:   18.0s remaining:   27.0s\n",
      "[Parallel(n_jobs=-1)]: Done   5 out of  10 | elapsed:   18.6s remaining:   18.6s\n",
      "[Parallel(n_jobs=-1)]: Done   6 out of  10 | elapsed:   18.7s remaining:   12.5s\n",
      "[Parallel(n_jobs=-1)]: Done   7 out of  10 | elapsed:   18.8s remaining:    8.1s\n",
      "[Parallel(n_jobs=-1)]: Done   8 out of  10 | elapsed:   19.3s remaining:    4.8s\n",
      "[Parallel(n_jobs=-1)]: Done  10 out of  10 | elapsed:   19.8s remaining:    0.0s\n",
      "[Parallel(n_jobs=-1)]: Done  10 out of  10 | elapsed:   19.8s finished\n"
     ]
    }
   ],
   "source": [
    "kf = KFold(n_splits=n_split)\n",
    "out_ridge = Parallel(n_jobs=-1, verbose=100, pre_dispatch='1.5*n_jobs')(delayed(get_cv)\n",
    "                                                                 (train_i, test_i, RidgeReg(lambda_=1, fit_intercept=True)) for train_i, test_i in kf.split(X))\n"
   ]
  },
  {
   "cell_type": "code",
   "execution_count": 25,
   "metadata": {},
   "outputs": [
    {
     "data": {
      "image/png": "[encoded data removed]",
      "text/plain": [
       "<Figure size 432x288 with 1 Axes>"
      ]
     },
     "metadata": {
      "needs_background": "light"
     },
     "output_type": "display_data"
    }
   ],
   "source": [
    "plt.plot(1 + np.arange(n_split),[x['rmse_train'] for x in out_ridge],label= 'Train data')\n",
    "plt.plot(1 + np.arange(n_split),[x['rmse_test'] for x in out_ridge],label = 'Test data')\n",
    "plt.legend()\n",
    "plt.title('Ridge regression train and test CV')\n",
    "plt.grid()\n",
    "plt.tight_layout()\n",
    "plt.show()"
   ]
  },
  {
   "cell_type": "code",
   "execution_count": 26,
   "metadata": {},
   "outputs": [
    {
     "name": "stdout",
     "output_type": "stream",
     "text": [
      "32 82\n"
     ]
    }
   ],
   "source": [
    "lasso_ind = np.where( ( lasso_reg_org.weights['x']!=0) )[0]\n",
    "ridge_ind = np.where(ridge_reg_org.weights['x']!=0)[0]\n",
    "print(len(lasso_ind),len(ridge_ind))"
   ]
  },
  {
   "cell_type": "code",
   "execution_count": 156,
   "metadata": {},
   "outputs": [
    {
     "data": {
      "image/png": "[encoded data removed]",
      "text/plain": [
       "<Figure size 432x288 with 1 Axes>"
      ]
     },
     "metadata": {
      "needs_background": "light"
     },
     "output_type": "display_data"
    }
   ],
   "source": [
    "\n",
    "plt.scatter(df.columns[:-1][lasso_ind],(lasso_reg_org.weights['x'])[lasso_ind],label='Lasso',marker='x')\n",
    "plt.scatter(df.columns[:-1][lasso_ind],(ridge_reg_org.weights['x'])[lasso_ind],label='Ridge')\n",
    "plt.scatter(df.columns[:-1][lasso_ind],(lin_reg_org.weights['x'])[lasso_ind],label='Linear',marker='h')\n",
    "\n",
    "plt.legend()\n",
    "plt.xticks(rotation=90)\n",
    "plt.show()"
   ]
  },
  {
   "cell_type": "markdown",
   "metadata": {},
   "source": [
    "We can see that remaining non-null coefficients in Lasso Regression regularization are substantially reduced when compared with Linear regression. Approach of Ridge regression is to shrink coeff. thus improving the overall performance, visible on the plot."
   ]
  },
  {
   "cell_type": "code",
   "execution_count": 69,
   "metadata": {},
   "outputs": [
    {
     "name": "stdout",
     "output_type": "stream",
     "text": [
      "RMSE (LIN_REG_REDUCED):  19.154562626447465\n"
     ]
    }
   ],
   "source": [
    "lasso_ind = np.where((lasso_reg_org.weights['x']>1e-11) | (lasso_reg_org.weights['x']<-1e-11))[0]\n",
    "lin_reg_red = LinReg().fit(X_train[:,lasso_ind],y_train)\n",
    "print('RMSE (LIN_REG_REDUCED): ', rmse(lin_reg_red.predict(X_test[:,lasso_ind]),y_test))"
   ]
  },
  {
   "cell_type": "markdown",
   "metadata": {},
   "source": [
    "Using selected non-null (or substaintally reduced) coefficient to select reduced features for linear regression, thus improving RMSE."
   ]
  },
  {
   "cell_type": "code",
   "execution_count": 70,
   "metadata": {},
   "outputs": [],
   "source": [
    "from sklearn.model_selection import GridSearchCV"
   ]
  },
  {
   "cell_type": "code",
   "execution_count": 84,
   "metadata": {},
   "outputs": [
    {
     "name": "stdout",
     "output_type": "stream",
     "text": [
      "1  :  13.588195643187555\n",
      "2  :  13.559050740566924\n",
      "0.1  :  17.148832040134035\n",
      "0.01  :  21.8925508579812\n",
      "0.001  :  32.51046720644312\n",
      "5  :  14.816585418964964\n",
      "10  :  16.967075467244122\n"
     ]
    }
   ],
   "source": [
    "l =  [1,2,0.1, 0.01,0.001,5,10]\n",
    "\n",
    "for ll in l:\n",
    "    clf = RidgeReg(lambda_=ll).fit(X_train,y_train)\n",
    "    print(ll,' : ',rmse(clf.predict(X_test),y_test))\n"
   ]
  },
  {
   "cell_type": "markdown",
   "metadata": {},
   "source": [
    "### Kernelized Ridge Regression"
   ]
  },
  {
   "cell_type": "code",
   "execution_count": 4,
   "metadata": {},
   "outputs": [],
   "source": [
    "class Linear:\n",
    "    \"\"\"An example of a kernel.\"\"\"\n",
    "\n",
    "    def __init__(self):\n",
    "        # here a kernel could set its parameters\n",
    "        pass\n",
    "\n",
    "    # a-xprim b-x\n",
    "\n",
    "    def __call__(self, A, B):\n",
    "        \"\"\"Can be called with vectors or matrices, see the\n",
    "        comment for test_kernel\"\"\"\n",
    "        return A.dot(B.T)"
   ]
  },
  {
   "cell_type": "code",
   "execution_count": 5,
   "metadata": {},
   "outputs": [],
   "source": [
    "class Polynomial:\n",
    "    def __init__(self, M=1):\n",
    "        self.M = M\n",
    "\n",
    "    def __call__(self, xprim, x, c=1):\n",
    "        res = (np.dot(xprim, x.T) + c)\n",
    "        return (res**self.M)"
   ]
  },
  {
   "cell_type": "code",
   "execution_count": 6,
   "metadata": {},
   "outputs": [],
   "source": [
    "class RBF:\n",
    "    def __init__(self, sigma=1):\n",
    "        self.sigma = sigma\n",
    "\n",
    "    def __call__(self, xprim, x):\n",
    "        # dis = x.T.dot(x)+xprim.T.dot(xprim) - 2*(np.dot(x.T, xprim))\n",
    "        # return np.exp((-dis/(2*self.sigma**2)))\n",
    "        def dmatrix(xprim, x):\n",
    "            x_ax = None\n",
    "            xp_ax = None\n",
    "            if (xprim.ndim == 2):\n",
    "                xp_ax = 1\n",
    "            if (x.ndim == 2):\n",
    "                x_ax = 1\n",
    "            nxp = (xprim**2).sum(axis=xp_ax)\n",
    "            nx = (x**2).sum(axis=x_ax)\n",
    "            return (nxp.reshape(-1, 1) + nx - 2 * np.dot(xprim, x.T))\n",
    "\n",
    "        def rbf(xp, x):\n",
    "            _gamma = 1. / (2 * self.sigma**2)\n",
    "            dists_sq = dmatrix(xp, x)\n",
    "            return np.exp(-_gamma * dists_sq)\n",
    "\n",
    "        return np.squeeze(rbf(xprim, x))"
   ]
  },
  {
   "cell_type": "code",
   "execution_count": 85,
   "metadata": {},
   "outputs": [],
   "source": [
    "class KernelizedRidgeRegression:\n",
    "    def __init__(self, lambda_, kernel=Linear):\n",
    "        self.k = kernel\n",
    "        self.l = lambda_\n",
    "\n",
    "    def gramm(self):\n",
    "        # Kernelizing Gram Matrix\n",
    "        def f2(xprim, x2):\n",
    "            return self.k(xprim, x2)\n",
    "\n",
    "        def f1(x1):\n",
    "            return np.apply_along_axis(func1d=f2, arr=self.x, axis=1, x2=x1)\n",
    "\n",
    "        return np.apply_along_axis(func1d=f1, arr=self.x, axis=1)\n",
    "\n",
    "    def fit(self, x, y):\n",
    "\n",
    "        self.x = x\n",
    "        self.y = y\n",
    "        f_size = self.x.shape[0]\n",
    "        gr = self.gramm()\n",
    "        # print(gr[0][:10])\n",
    "        self.alpha = np.linalg.inv((gr + self.l * np.eye(f_size)))\n",
    "        self.alpha = self.alpha.dot(self.y)\n",
    "        self.beta = self.x.T.dot(self.alpha)\n",
    "\n",
    "        return self\n",
    "\n",
    "    def predict(self, xp):\n",
    "        def kernel_res(xprim):\n",
    "            return np.apply_along_axis(func1d=ker,\n",
    "                                       axis=1,\n",
    "                                       arr=self.x,\n",
    "                                       xprim=xprim)\n",
    "\n",
    "        def ker(x_i, xprim):\n",
    "            return self.k(xprim, x_i)\n",
    "\n",
    "        res = np.apply_along_axis(func1d=kernel_res, axis=1, arr=xp)\n",
    "        yhat = res.dot(self.alpha)\n",
    "        return yhat"
   ]
  },
  {
   "cell_type": "code",
   "execution_count": 157,
   "metadata": {},
   "outputs": [],
   "source": [
    "ridge_reg_org = RidgeReg( lambda_ = 2).fit(X_train,y_train)"
   ]
  },
  {
   "cell_type": "code",
   "execution_count": 158,
   "metadata": {},
   "outputs": [
    {
     "name": "stdout",
     "output_type": "stream",
     "text": [
      "RMSE (RIDGEREG): 13.559050740566924\n"
     ]
    }
   ],
   "source": [
    "print('RMSE (RIDGEREG):',rmse(ridge_reg_org.predict(X_test),y_test))"
   ]
  },
  {
   "cell_type": "code",
   "execution_count": 159,
   "metadata": {},
   "outputs": [],
   "source": [
    "ker_ridge_reg = KernelizedRidgeRegression(lambda_=1,kernel=Linear()).fit(X_train,y_train)"
   ]
  },
  {
   "cell_type": "code",
   "execution_count": 160,
   "metadata": {},
   "outputs": [
    {
     "name": "stdout",
     "output_type": "stream",
     "text": [
      "RMSE (Ker Ridge Reg): 13.498212831736286\n"
     ]
    }
   ],
   "source": [
    "print('RMSE (Ker Ridge Reg):', rmse(ker_ridge_reg.predict(X_test),y_test))"
   ]
  },
  {
   "cell_type": "markdown",
   "metadata": {},
   "source": [
    "We can use Kernelized Ridge Regression with different kernels to improve train performance calculations of base Ridge regression due to lower cost of computation and optimization, thus elapsed time is smaller, by omitting need for optimization method in Kernelized ridge implementation.\n",
    "\n",
    "* Ridge regression: `6.3s` \n",
    "* Kernelized ridge regression: `0.1s`"
   ]
  },
  {
   "cell_type": "code",
   "execution_count": null,
   "metadata": {},
   "outputs": [],
   "source": []
  }
 ],
 "metadata": {
  "kernelspec": {
   "display_name": "Python 3.8.12 ('mlds1')",
   "language": "python",
   "name": "python3"
  },
  "language_info": {
   "codemirror_mode": {
    "name": "ipython",
    "version": 3
   },
   "file_extension": ".py",
   "mimetype": "text/x-python",
   "name": "python",
   "nbconvert_exporter": "python",
   "pygments_lexer": "ipython3",
   "version": "3.8.12"
  },
  "orig_nbformat": 4,
  "vscode": {
   "interpreter": {
    "hash": "40d772e70aa8f6b0219cb1eba0243ea7b8bd3cab139a70810c505565d14df58e"
   }
  }
 },
 "nbformat": 4,
 "nbformat_minor": 2
}
